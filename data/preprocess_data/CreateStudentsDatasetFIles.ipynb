{
 "cells": [
  {
   "cell_type": "code",
   "execution_count": 1,
   "metadata": {},
   "outputs": [],
   "source": [
    "from __future__ import division\n",
    "import pandas as pd\n",
    "import numpy as np\n",
    "import json\n",
    "import os,sys\n",
    "import seaborn as sns\n",
    "import matplotlib.pyplot as plt\n",
    "from sklearn.model_selection import train_test_split\n",
    "import numpy as np"
   ]
  },
  {
   "cell_type": "code",
   "execution_count": 2,
   "metadata": {},
   "outputs": [],
   "source": [
    "dataset_base_dir = '../datasets/students-dataset/'"
   ]
  },
  {
   "cell_type": "code",
   "execution_count": 4,
   "metadata": {},
   "outputs": [
    {
     "name": "stderr",
     "output_type": "stream",
     "text": [
      "/home/cip/miniconda3/envs/arl_uva/lib/python3.8/site-packages/IPython/core/interactiveshell.py:3146: DtypeWarning: Columns (16,17,18,19,24,25,38,61,112,113,123,127,136) have mixed types.Specify dtype option on import or set low_memory=False.\n",
      "  has_raised = await self.run_ast_nodes(code_ast.body, cell_name,\n"
     ]
    }
   ],
   "source": [
    "TRAIN_FILE = os.path.join(dataset_base_dir, 'benchmark/dataset.csv')\n",
    "\n",
    "with open(TRAIN_FILE, 'r') as f:\n",
    "    train_df = pd.read_csv(f)\n",
    "\n",
    "target = \"s_has_repeated\""
   ]
  },
  {
   "cell_type": "code",
   "execution_count": 5,
   "metadata": {},
   "outputs": [],
   "source": [
    "def convert_object_type_to_category(df):\n",
    "    \"\"\"Converts columns of type object to category.\"\"\"\n",
    "    df = pd.concat([df.select_dtypes(include=[], exclude=['object']),\n",
    "                  df.select_dtypes(['object']).apply(pd.Series.astype, dtype='category')\n",
    "                  ], axis=1).reindex(df.columns, axis=1)\n",
    "    return df"
   ]
  },
  {
   "cell_type": "code",
   "execution_count": 6,
   "metadata": {},
   "outputs": [],
   "source": [
    "def remove_id_cols(df):\n",
    "    \"\"\"Removes columns that have 'id' in their name.\"\"\"\n",
    "    return df[[col for col in df.columns if 'id' not in col]]"
   ]
  },
  {
   "cell_type": "code",
   "execution_count": 7,
   "metadata": {},
   "outputs": [
    {
     "name": "stdout",
     "output_type": "stream",
     "text": [
      "Index(['score_MAT', 'level_MAT', 'score_LEN', 'level_LEN', 'score_ING',\n",
      "       'level_ING', 's_gender', 's_birth_year', 's_is_living_with_mother',\n",
      "       's_is_living_with_father',\n",
      "       ...\n",
      "       't_number_of_special_attention_students',\n",
      "       't_extent_of_student_involvement_during_class',\n",
      "       't_extent_of_teaching_methods_variety', 't_extent_of_opinion_on_school',\n",
      "       't_extent_of_class_behaviour', 't_extent_of_resource_variety',\n",
      "       't_extent_of_good_work_by_non_teachers', 't_number_of_subjects_taught',\n",
      "       't_extent_of_satisfaction_job_and_school',\n",
      "       't_extent_of_results_satisfaction'],\n",
      "      dtype='object', length=149)\n"
     ]
    }
   ],
   "source": [
    "train_df = remove_id_cols(train_df)\n",
    "print(train_df.columns)"
   ]
  },
  {
   "cell_type": "code",
   "execution_count": 8,
   "metadata": {},
   "outputs": [
    {
     "name": "stdout",
     "output_type": "stream",
     "text": [
      "(80174, 149)\n"
     ]
    }
   ],
   "source": [
    "print(train_df.shape)"
   ]
  },
  {
   "cell_type": "code",
   "execution_count": 9,
   "metadata": {},
   "outputs": [
    {
     "data": {
      "text/html": [
       "<div>\n",
       "<style scoped>\n",
       "    .dataframe tbody tr th:only-of-type {\n",
       "        vertical-align: middle;\n",
       "    }\n",
       "\n",
       "    .dataframe tbody tr th {\n",
       "        vertical-align: top;\n",
       "    }\n",
       "\n",
       "    .dataframe thead th {\n",
       "        text-align: right;\n",
       "    }\n",
       "</style>\n",
       "<table border=\"1\" class=\"dataframe\">\n",
       "  <thead>\n",
       "    <tr style=\"text-align: right;\">\n",
       "      <th></th>\n",
       "      <th>score_MAT</th>\n",
       "      <th>level_MAT</th>\n",
       "      <th>score_LEN</th>\n",
       "      <th>level_LEN</th>\n",
       "      <th>score_ING</th>\n",
       "      <th>level_ING</th>\n",
       "      <th>s_gender</th>\n",
       "      <th>s_birth_year</th>\n",
       "      <th>s_is_living_with_mother</th>\n",
       "      <th>s_is_living_with_father</th>\n",
       "      <th>...</th>\n",
       "      <th>t_number_of_special_attention_students</th>\n",
       "      <th>t_extent_of_student_involvement_during_class</th>\n",
       "      <th>t_extent_of_teaching_methods_variety</th>\n",
       "      <th>t_extent_of_opinion_on_school</th>\n",
       "      <th>t_extent_of_class_behaviour</th>\n",
       "      <th>t_extent_of_resource_variety</th>\n",
       "      <th>t_extent_of_good_work_by_non_teachers</th>\n",
       "      <th>t_number_of_subjects_taught</th>\n",
       "      <th>t_extent_of_satisfaction_job_and_school</th>\n",
       "      <th>t_extent_of_results_satisfaction</th>\n",
       "    </tr>\n",
       "  </thead>\n",
       "  <tbody>\n",
       "    <tr>\n",
       "      <th>0</th>\n",
       "      <td>564.87</td>\n",
       "      <td>3.0</td>\n",
       "      <td>535.15</td>\n",
       "      <td>3.0</td>\n",
       "      <td>NaN</td>\n",
       "      <td>NaN</td>\n",
       "      <td>FEMALE</td>\n",
       "      <td>2007.0</td>\n",
       "      <td>True</td>\n",
       "      <td>True</td>\n",
       "      <td>...</td>\n",
       "      <td>NaN</td>\n",
       "      <td>NaN</td>\n",
       "      <td>NaN</td>\n",
       "      <td>NaN</td>\n",
       "      <td>NaN</td>\n",
       "      <td>NaN</td>\n",
       "      <td>NaN</td>\n",
       "      <td>NaN</td>\n",
       "      <td>NaN</td>\n",
       "      <td>NaN</td>\n",
       "    </tr>\n",
       "    <tr>\n",
       "      <th>1</th>\n",
       "      <td>388.34</td>\n",
       "      <td>1.0</td>\n",
       "      <td>293.70</td>\n",
       "      <td>1.0</td>\n",
       "      <td>NaN</td>\n",
       "      <td>NaN</td>\n",
       "      <td>MALE</td>\n",
       "      <td>2007.0</td>\n",
       "      <td>True</td>\n",
       "      <td>True</td>\n",
       "      <td>...</td>\n",
       "      <td>NaN</td>\n",
       "      <td>NaN</td>\n",
       "      <td>NaN</td>\n",
       "      <td>NaN</td>\n",
       "      <td>NaN</td>\n",
       "      <td>NaN</td>\n",
       "      <td>NaN</td>\n",
       "      <td>NaN</td>\n",
       "      <td>NaN</td>\n",
       "      <td>NaN</td>\n",
       "    </tr>\n",
       "    <tr>\n",
       "      <th>2</th>\n",
       "      <td>386.59</td>\n",
       "      <td>1.0</td>\n",
       "      <td>514.81</td>\n",
       "      <td>3.0</td>\n",
       "      <td>NaN</td>\n",
       "      <td>NaN</td>\n",
       "      <td>FEMALE</td>\n",
       "      <td>2007.0</td>\n",
       "      <td>True</td>\n",
       "      <td>True</td>\n",
       "      <td>...</td>\n",
       "      <td>NaN</td>\n",
       "      <td>NaN</td>\n",
       "      <td>NaN</td>\n",
       "      <td>NaN</td>\n",
       "      <td>NaN</td>\n",
       "      <td>NaN</td>\n",
       "      <td>NaN</td>\n",
       "      <td>NaN</td>\n",
       "      <td>NaN</td>\n",
       "      <td>NaN</td>\n",
       "    </tr>\n",
       "    <tr>\n",
       "      <th>3</th>\n",
       "      <td>487.76</td>\n",
       "      <td>2.0</td>\n",
       "      <td>449.25</td>\n",
       "      <td>2.0</td>\n",
       "      <td>NaN</td>\n",
       "      <td>NaN</td>\n",
       "      <td>MALE</td>\n",
       "      <td>2007.0</td>\n",
       "      <td>True</td>\n",
       "      <td>True</td>\n",
       "      <td>...</td>\n",
       "      <td>1.0</td>\n",
       "      <td>0.555556</td>\n",
       "      <td>0.666667</td>\n",
       "      <td>1.0</td>\n",
       "      <td>0.500000</td>\n",
       "      <td>0.458333</td>\n",
       "      <td>0.555556</td>\n",
       "      <td>NaN</td>\n",
       "      <td>NaN</td>\n",
       "      <td>0.666667</td>\n",
       "    </tr>\n",
       "    <tr>\n",
       "      <th>4</th>\n",
       "      <td>709.79</td>\n",
       "      <td>4.0</td>\n",
       "      <td>598.72</td>\n",
       "      <td>3.0</td>\n",
       "      <td>NaN</td>\n",
       "      <td>NaN</td>\n",
       "      <td>FEMALE</td>\n",
       "      <td>2007.0</td>\n",
       "      <td>True</td>\n",
       "      <td>True</td>\n",
       "      <td>...</td>\n",
       "      <td>0.4</td>\n",
       "      <td>0.666667</td>\n",
       "      <td>0.733333</td>\n",
       "      <td>1.0</td>\n",
       "      <td>0.833333</td>\n",
       "      <td>0.625000</td>\n",
       "      <td>0.888889</td>\n",
       "      <td>NaN</td>\n",
       "      <td>NaN</td>\n",
       "      <td>1.000000</td>\n",
       "    </tr>\n",
       "  </tbody>\n",
       "</table>\n",
       "<p>5 rows × 149 columns</p>\n",
       "</div>"
      ],
      "text/plain": [
       "   score_MAT  level_MAT  score_LEN  level_LEN  score_ING  level_ING s_gender  \\\n",
       "0     564.87        3.0     535.15        3.0        NaN        NaN   FEMALE   \n",
       "1     388.34        1.0     293.70        1.0        NaN        NaN     MALE   \n",
       "2     386.59        1.0     514.81        3.0        NaN        NaN   FEMALE   \n",
       "3     487.76        2.0     449.25        2.0        NaN        NaN     MALE   \n",
       "4     709.79        4.0     598.72        3.0        NaN        NaN   FEMALE   \n",
       "\n",
       "   s_birth_year s_is_living_with_mother s_is_living_with_father  ...  \\\n",
       "0        2007.0                    True                    True  ...   \n",
       "1        2007.0                    True                    True  ...   \n",
       "2        2007.0                    True                    True  ...   \n",
       "3        2007.0                    True                    True  ...   \n",
       "4        2007.0                    True                    True  ...   \n",
       "\n",
       "  t_number_of_special_attention_students  \\\n",
       "0                                    NaN   \n",
       "1                                    NaN   \n",
       "2                                    NaN   \n",
       "3                                    1.0   \n",
       "4                                    0.4   \n",
       "\n",
       "  t_extent_of_student_involvement_during_class  \\\n",
       "0                                          NaN   \n",
       "1                                          NaN   \n",
       "2                                          NaN   \n",
       "3                                     0.555556   \n",
       "4                                     0.666667   \n",
       "\n",
       "  t_extent_of_teaching_methods_variety  t_extent_of_opinion_on_school  \\\n",
       "0                                  NaN                            NaN   \n",
       "1                                  NaN                            NaN   \n",
       "2                                  NaN                            NaN   \n",
       "3                             0.666667                            1.0   \n",
       "4                             0.733333                            1.0   \n",
       "\n",
       "   t_extent_of_class_behaviour  t_extent_of_resource_variety  \\\n",
       "0                          NaN                           NaN   \n",
       "1                          NaN                           NaN   \n",
       "2                          NaN                           NaN   \n",
       "3                     0.500000                      0.458333   \n",
       "4                     0.833333                      0.625000   \n",
       "\n",
       "  t_extent_of_good_work_by_non_teachers t_number_of_subjects_taught  \\\n",
       "0                                   NaN                         NaN   \n",
       "1                                   NaN                         NaN   \n",
       "2                                   NaN                         NaN   \n",
       "3                              0.555556                         NaN   \n",
       "4                              0.888889                         NaN   \n",
       "\n",
       "   t_extent_of_satisfaction_job_and_school  t_extent_of_results_satisfaction  \n",
       "0                                      NaN                               NaN  \n",
       "1                                      NaN                               NaN  \n",
       "2                                      NaN                               NaN  \n",
       "3                                      NaN                          0.666667  \n",
       "4                                      NaN                          1.000000  \n",
       "\n",
       "[5 rows x 149 columns]"
      ]
     },
     "execution_count": 9,
     "metadata": {},
     "output_type": "execute_result"
    }
   ],
   "source": [
    "train_df.head()"
   ]
  },
  {
   "cell_type": "code",
   "execution_count": 9,
   "metadata": {},
   "outputs": [
    {
     "name": "stdout",
     "output_type": "stream",
     "text": [
      "(80174, 149)\n"
     ]
    }
   ],
   "source": [
    "# remove rows with all missing values\n",
    "train_df = train_df.dropna(how='all')\n",
    "print(train_df.shape)"
   ]
  },
  {
   "cell_type": "code",
   "execution_count": 10,
   "metadata": {},
   "outputs": [
    {
     "name": "stdout",
     "output_type": "stream",
     "text": [
      "Male teachers:  0.7114208801986603\n",
      "Female teachers:  0.2885791198013397\n",
      "Male students:  0.5094659691287683\n",
      "Female students:  0.49053403087123176\n",
      "Has repeated:  0.9113089252972142\n",
      "No repeated:  0.08869107470278582\n"
     ]
    }
   ],
   "source": [
    "# get percentage of different s_gender values\n",
    "male_s, female_s = train_df[\"s_gender\"].value_counts(normalize=True)\n",
    "male_t, female_t = train_df[\"t_gender\"].value_counts(normalize=True)\n",
    "has_repeated, no_repeated = train_df[\"s_has_repeated\"].value_counts(normalize=True)\n",
    "print(\"Male teachers: \", male_t)\n",
    "print(\"Female teachers: \", female_t)\n",
    "print(\"Male students: \", male_s)\n",
    "print(\"Female students: \", female_s)\n",
    "print(\"Has repeated: \", has_repeated)\n",
    "print(\"No repeated: \", no_repeated)"
   ]
  },
  {
   "cell_type": "code",
   "execution_count": 12,
   "metadata": {},
   "outputs": [
    {
     "name": "stdout",
     "output_type": "stream",
     "text": [
      "(100, 149)\n",
      "(100, 149)\n",
      "(200, 149)\n"
     ]
    }
   ],
   "source": [
    "# get 500 rows where s_has_repeated is True\n",
    "repeated_students = train_df[train_df[\"s_has_repeated\"] == True]\n",
    "repeated_students = repeated_students.sample(n=100, random_state=1)\n",
    "print(repeated_students.shape)\n",
    "# get 100 rows where s_has_repeated is False\n",
    "non_repeated_students = train_df[train_df[\"s_has_repeated\"] == False]\n",
    "non_repeated_students = non_repeated_students.sample(n=100, random_state=1)\n",
    "print(non_repeated_students.shape)\n",
    "# combine the two dataframes\n",
    "students = pd.concat([repeated_students, non_repeated_students])\n",
    "print(students.shape)"
   ]
  },
  {
   "cell_type": "code",
   "execution_count": 13,
   "metadata": {},
   "outputs": [
    {
     "name": "stdout",
     "output_type": "stream",
     "text": [
      "Mean and std saved to ../datasets/students-dataset/mean_std.json\n"
     ]
    }
   ],
   "source": [
    "col_list_train = train_df.columns.values\n",
    "temp_dict = students.describe().to_dict()\n",
    "mean_std_dict = {}\n",
    "for key, value in temp_dict.items():\n",
    "    mean_std_dict[key] = [value['mean'], value['std']]\n",
    "\n",
    "output_file_path = os.path.join(dataset_base_dir, 'mean_std.json')\n",
    "with open(output_file_path, 'w') as f:\n",
    "    json.dump(mean_std_dict, f)\n",
    "\n",
    "print(\"Mean and std saved to {}\".format(output_file_path))"
   ]
  },
  {
   "cell_type": "code",
   "execution_count": 14,
   "metadata": {},
   "outputs": [],
   "source": [
    "columns = train_df.columns\n",
    "students = convert_object_type_to_category(students)"
   ]
  },
  {
   "cell_type": "code",
   "execution_count": 15,
   "metadata": {},
   "outputs": [
    {
     "name": "stdout",
     "output_type": "stream",
     "text": [
      "{'s_gender': ['FEMALE', 'MALE'], 's_is_living_with_mother': [False, True], 's_is_living_with_father': [False, True], 's_is_living_with_siblings': [True], 's_is_living_with_other_relatives': [True], 's_has_repeated': [False, True], 's_birth_country': ['ROU', 'ESP', 'COL', 'ISL', 'CUB', 'DOM', 'DEU'], 's_nazionality_country': ['ROU', 'ESP', 'GIN', 'COL', 'ISL', 'DOM', 'CHN', 'DEU'], 'p_gender': ['FEMALE', 'MALE'], 'p_school_teacher_training_plan': [False, True], 'p_island': ['GRAN_CANARIA_PROVINCE', 'GRAN_CANARIA_CAPITAL', 'TENERIFE_CAPITAL', 'TENERIFE_PROVINCE'], 'p_public_or_private': ['PUBLIC', 'PRIVATE'], 'f_respondent': ['FATHER', 'OTHER', 'MOTHER'], 'f_mother_place_of_birth': ['ANOTHER_EU', 'ANOTHER_NON_EU', 'SPAIN_NO_CANARY_ISLANDS', 'CANARY_ISLANDS'], 'f_father_place_of_birth': ['ANOTHER_EU', 'ANOTHER_NON_EU', 'SPAIN_NO_CANARY_ISLANDS', 'CANARY_ISLANDS'], 'f_student_place_of_birth': ['ANOTHER_EU', 'ANOTHER_NON_EU', 'SPAIN_NO_CANARY_ISLANDS', 'CANARY_ISLANDS'], 'f_language_spoken_at_home': ['OTHER', 'SPANISH'], 'f_visits_in_school_by_mother': ['SOMETIMES', 'ONCE_PER_MONTH', 'ONCE_PER_WEEK'], 'f_visits_in_school_by_father': ['NEVER', 'SOMETIMES', 'ONCE_PER_MONTH', 'ONCE_PER_WEEK'], 'f_has_been_recommended_school': [False, True], 'f_parental_education_expectations': ['UP_FP', 'BACH_ATO', 'BACH_DEG', 'DONT_KNOW', 'INT_FP', '4_ESO'], 'f_type_of_family_unit': ['MOTHER_FATHER_CHILDREN', 'OTHERS', 'FATHER_PARTNER_CHILDREN', 'MOTHER_PARTNER_CHILDREN', 'FATHER_CHILDREN', 'MOTHER_CHILDREN'], 'f_monthly_household_income': ['UP_TO_3500', 'UP_TO_1000', 'NO_ANSWER', 'UP_TO_2500', 'MORE_THAN_3500', 'NO_INCOME', 'UP_TO_500', 'UP_TO_2000', 'UP_TO_1500', 'UP_TO_3000'], 't_gender': ['FEMALE', 'MALE'], 't_has_taught_same_group_last_two_years': [False, True], 't_behaviour_problems_solution': ['CLASSMATES', 'INDIVIDUALLY']}\n"
     ]
    }
   ],
   "source": [
    "cat_cols = students.select_dtypes(include='category').columns\n",
    "vocab_dict = {}\n",
    "for col in cat_cols:\n",
    "    vocab_dict[col] = list(set(students[col].cat.categories)-{\"?\"})\n",
    "\n",
    "output_file_path = os.path.join(dataset_base_dir,'vocabulary.json')\n",
    "with open(output_file_path, mode=\"w\") as output_file:\n",
    "    output_file.write(json.dumps(vocab_dict))\n",
    "    output_file.close()\n",
    "print(vocab_dict)"
   ]
  },
  {
   "cell_type": "code",
   "execution_count": 24,
   "metadata": {},
   "outputs": [],
   "source": [
    "stats = {}\n",
    "stats[\"feature_names\"] = list(students.columns)\n",
    "stats[\"mean_std\"] = mean_std_dict\n",
    "stats[\"sensitive_column_names\"] = [\"s_gender\", \"t_gender\"]\n",
    "stats[\"sensitive_column_values\"] = [\"FEMALE\", \"FEMALE\"]\n",
    "stats[\"target_column_name\"] = \"s_has_repeated\"\n",
    "stats[\"target_column_positive_value\"] = True\n",
    "stats[\"vocabulary\"] = vocab_dict\n",
    "\n",
    "output_file_path = os.path.join(dataset_base_dir, 'dataset_stats.json')\n",
    "with open(output_file_path, mode=\"w\") as output_file:\n",
    "    output_file.write(json.dumps(stats, indent=4, sort_keys=True))\n",
    "    output_file.close()"
   ]
  },
  {
   "cell_type": "code",
   "execution_count": 22,
   "metadata": {},
   "outputs": [],
   "source": [
    "train_df, test_df = train_test_split(students, test_size=0.30, random_state=42)"
   ]
  },
  {
   "cell_type": "code",
   "execution_count": 20,
   "metadata": {},
   "outputs": [
    {
     "name": "stdout",
     "output_type": "stream",
     "text": [
      "Processed train data saved to ../datasets/students-dataset/train.csv\n"
     ]
    }
   ],
   "source": [
    "# save train_df to csv\n",
    "output_file_path = os.path.join(dataset_base_dir, 'train.csv')\n",
    "train_df.to_csv(output_file_path, index=False)\n",
    "print(\"Processed train data saved to {}\".format(output_file_path))"
   ]
  },
  {
   "cell_type": "code",
   "execution_count": 21,
   "metadata": {},
   "outputs": [
    {
     "name": "stdout",
     "output_type": "stream",
     "text": [
      "Processed test data saved to ../datasets/students-dataset/test.csv\n"
     ]
    }
   ],
   "source": [
    "# save test_df to csv\n",
    "output_file_path = os.path.join(dataset_base_dir, 'test.csv')\n",
    "test_df.to_csv(output_file_path, index=False)\n",
    "print(\"Processed test data saved to {}\".format(output_file_path))"
   ]
  },
  {
   "cell_type": "code",
   "execution_count": 52,
   "metadata": {},
   "outputs": [
    {
     "data": {
      "text/plain": [
       "<AxesSubplot:>"
      ]
     },
     "execution_count": 52,
     "metadata": {},
     "output_type": "execute_result"
    },
    {
     "data": {
      "image/png": "[encoded data removed]",
      "text/plain": [
       "<Figure size 432x288 with 1 Axes>"
      ]
     },
     "metadata": {
      "needs_background": "light"
     },
     "output_type": "display_data"
    }
   ],
   "source": [
    "# print distribution of target\n",
    "students[\"s_has_repeated\"].value_counts(normalize=True).plot(kind='bar')"
   ]
  },
  {
   "cell_type": "code",
   "execution_count": 53,
   "metadata": {},
   "outputs": [
    {
     "data": {
      "text/plain": [
       "<AxesSubplot:>"
      ]
     },
     "execution_count": 53,
     "metadata": {},
     "output_type": "execute_result"
    },
    {
     "data": {
      "image/png": "[encoded data removed]",
      "text/plain": [
       "<Figure size 432x288 with 1 Axes>"
      ]
     },
     "metadata": {
      "needs_background": "light"
     },
     "output_type": "display_data"
    }
   ],
   "source": [
    "students[\"s_gender\"].value_counts(normalize=True).plot(kind='bar')"
   ]
  },
  {
   "cell_type": "code",
   "execution_count": 54,
   "metadata": {},
   "outputs": [
    {
     "data": {
      "text/plain": [
       "<AxesSubplot:>"
      ]
     },
     "execution_count": 54,
     "metadata": {},
     "output_type": "execute_result"
    },
    {
     "data": {
      "image/png": "[encoded data removed]",
      "text/plain": [
       "<Figure size 432x288 with 1 Axes>"
      ]
     },
     "metadata": {
      "needs_background": "light"
     },
     "output_type": "display_data"
    }
   ],
   "source": [
    "students[\"t_gender\"].value_counts(normalize=True).plot(kind='bar')"
   ]
  },
  {
   "cell_type": "code",
   "execution_count": null,
   "metadata": {},
   "outputs": [],
   "source": []
  }
 ],
 "metadata": {
  "kernelspec": {
   "display_name": "arl_uva",
   "language": "python",
   "name": "python3"
  },
  "language_info": {
   "codemirror_mode": {
    "name": "ipython",
    "version": 3
   },
   "file_extension": ".py",
   "mimetype": "text/x-python",
   "name": "python",
   "nbconvert_exporter": "python",
   "pygments_lexer": "ipython3",
   "version": "3.8.5"
  }
 },
 "nbformat": 4,
 "nbformat_minor": 2
}

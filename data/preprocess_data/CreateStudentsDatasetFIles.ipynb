{
 "cells": [
  {
   "cell_type": "code",
   "execution_count": 24,
   "metadata": {},
   "outputs": [],
   "source": [
    "from __future__ import division\n",
    "import pandas as pd\n",
    "import numpy as np\n",
    "import json\n",
    "import os,sys\n",
    "import seaborn as sns\n",
    "import matplotlib.pyplot as plt\n",
    "from sklearn.model_selection import train_test_split\n",
    "import numpy as np"
   ]
  },
  {
   "cell_type": "code",
   "execution_count": 25,
   "metadata": {},
   "outputs": [],
   "source": [
    "dataset_base_dir = '../datasets/students-dataset/'"
   ]
  },
  {
   "cell_type": "code",
   "execution_count": 26,
   "metadata": {},
   "outputs": [],
   "source": [
    "def convert_object_type_to_category(df):\n",
    "    \"\"\"Converts columns of type object to category.\"\"\"\n",
    "    df = pd.concat([df.select_dtypes(include=[], exclude=['object']),\n",
    "                  df.select_dtypes(['object']).apply(pd.Series.astype, dtype='category')\n",
    "                  ], axis=1).reindex(df.columns, axis=1)\n",
    "    return df"
   ]
  },
  {
   "cell_type": "code",
   "execution_count": 27,
   "metadata": {},
   "outputs": [],
   "source": [
    "def remove_id_cols(df):\n",
    "    \"\"\"Removes columns that have 'id' in their name.\"\"\"\n",
    "    return df[[col for col in df.columns if 'id' not in col]]"
   ]
  },
  {
   "cell_type": "code",
   "execution_count": 28,
   "metadata": {},
   "outputs": [
    {
     "name": "stderr",
     "output_type": "stream",
     "text": [
      "/home/cip/miniconda3/envs/arl_uva/lib/python3.8/site-packages/IPython/core/interactiveshell.py:3146: DtypeWarning: Columns (16,17,18,19,24,25,38,61,112,113,123,127,136) have mixed types.Specify dtype option on import or set low_memory=False.\n",
      "  has_raised = await self.run_ast_nodes(code_ast.body, cell_name,\n"
     ]
    }
   ],
   "source": [
    "TRAIN_FILE = os.path.join(dataset_base_dir, 'train.csv')\n",
    "\n",
    "with open(TRAIN_FILE, 'r') as f:\n",
    "    train_df = pd.read_csv(f)\n",
    "\n",
    "target = \"score_MAT\"\n",
    "columns = train_df.columns\n",
    "train_df = convert_object_type_to_category(train_df)"
   ]
  },
  {
   "cell_type": "code",
   "execution_count": 29,
   "metadata": {},
   "outputs": [
    {
     "name": "stdout",
     "output_type": "stream",
     "text": [
      "Index(['score_MAT', 'level_MAT', 'score_LEN', 'level_LEN', 'score_ING',\n",
      "       'level_ING', 's_gender', 's_birth_year', 's_is_living_with_mother',\n",
      "       's_is_living_with_father',\n",
      "       ...\n",
      "       't_number_of_special_attention_students',\n",
      "       't_extent_of_student_involvement_during_class',\n",
      "       't_extent_of_teaching_methods_variety', 't_extent_of_opinion_on_school',\n",
      "       't_extent_of_class_behaviour', 't_extent_of_resource_variety',\n",
      "       't_extent_of_good_work_by_non_teachers', 't_number_of_subjects_taught',\n",
      "       't_extent_of_satisfaction_job_and_school',\n",
      "       't_extent_of_results_satisfaction'],\n",
      "      dtype='object', length=149)\n"
     ]
    }
   ],
   "source": [
    "train_df = remove_id_cols(train_df)\n",
    "print(train_df.columns)"
   ]
  },
  {
   "cell_type": "code",
   "execution_count": 30,
   "metadata": {},
   "outputs": [
    {
     "name": "stdout",
     "output_type": "stream",
     "text": [
      "Mean and std saved to ../datasets/students-dataset/mean_std.json\n"
     ]
    }
   ],
   "source": [
    "col_list_train = train_df.columns.values\n",
    "temp_dict = train_df.describe().to_dict()\n",
    "mean_std_dict = {}\n",
    "for key, value in temp_dict.items():\n",
    "    mean_std_dict[key] = [value['mean'], value['std']]\n",
    "\n",
    "output_file_path = os.path.join(dataset_base_dir, 'mean_std.json')\n",
    "with open(output_file_path, 'w') as f:\n",
    "    json.dump(mean_std_dict, f)\n",
    "\n",
    "print(\"Mean and std saved to {}\".format(output_file_path))"
   ]
  },
  {
   "cell_type": "code",
   "execution_count": 31,
   "metadata": {},
   "outputs": [
    {
     "name": "stdout",
     "output_type": "stream",
     "text": [
      "{'s_gender': ['FEMALE', 'MALE'], 's_is_living_with_mother': [False, True], 's_is_living_with_father': [False, True], 's_is_living_with_siblings': [True], 's_is_living_with_other_relatives': [True], 's_has_repeated': [False, True], 's_birth_country': ['AUT', 'POL', 'BGD', 'ESP', 'MLI', 'MRT', 'SVN', 'CHE', 'CHL', 'CZE', 'PRT', 'HND', 'USA', 'PRI', 'BOL', 'SEN', 'FIN', 'ESH', 'GBR', 'GEO', 'ARG', 'PHL', 'SWE', 'IRL', 'ROU', 'CPV', 'DEU', 'COG', 'CHN', 'CMR', 'VEN', 'FRA', 'ISL', 'PER', 'NLD', 'CRI', 'COL', 'BGR', 'BEL', 'NGA', 'GMB', 'LTU', 'BLR', 'DNK', 'ECU', 'CAN', 'IND', 'SLV', 'MCO', 'PRY', 'BRA', 'NPL', 'ITA', 'SYR', 'HUN', 'SVK', 'CUB', 'PAK', 'ETH', 'URY', 'DOM', 'GIN', 'RUS', 'IRN', 'MEX', 'BIH', 'LVA', 'DZA', 'MAR', 'GTM', 'PAN', 'UKR', 'GNQ'], 's_nazionality_country': ['AUT', 'POL', 'SRB', 'MLI', 'MRT', 'BGD', 'ESP', 'SVN', 'CHL', 'CZE', 'LKA', 'USA', 'HND', 'PRT', 'BOL', 'SEN', 'FIN', 'GBR', 'GEO', 'ARG', 'PHL', 'SWE', 'IRL', 'ROU', 'CPV', 'DEU', 'COG', 'CHN', 'UKR', 'KEN', 'VEN', 'FRA', 'ISL', 'PER', 'NLD', 'CRI', 'PRK', 'COL', 'THA', 'IDN', 'BGR', 'BEL', 'NGA', 'GMB', 'LTU', 'BLR', 'GNB', 'ARM', 'DNK', 'ECU', 'SLV', 'IND', 'SLE', 'PRY', 'BRA', 'NPL', 'ITA', 'HUN', 'SVK', 'CUB', 'DMA', 'PAK', 'URY', 'DOM', 'GIN', 'RUS', 'IRN', 'MEX', 'BIH', 'LVA', 'DZA', 'CIV', 'MAR', 'GTM', 'PAN', 'CHE', 'GNQ'], 'p_gender': ['FEMALE', 'MALE'], 'p_school_teacher_training_plan': [False, True], 'p_island': ['GRAN_CANARIA_PROVINCE', 'GRAN_CANARIA_CAPITAL', 'TENERIFE_PROVINCE', 'TENERIFE_CAPITAL'], 'p_public_or_private': ['PRIVATE', 'PUBLIC'], 'f_respondent': ['OTHER', 'MOTHER', 'FATHER'], 'f_mother_place_of_birth': ['ANOTHER_NON_EU', 'SPAIN_NO_CANARY_ISLANDS', 'CANARY_ISLANDS', 'ANOTHER_EU'], 'f_father_place_of_birth': ['ANOTHER_NON_EU', 'SPAIN_NO_CANARY_ISLANDS', 'CANARY_ISLANDS', 'ANOTHER_EU'], 'f_student_place_of_birth': ['ANOTHER_NON_EU', 'SPAIN_NO_CANARY_ISLANDS', 'CANARY_ISLANDS', 'ANOTHER_EU'], 'f_language_spoken_at_home': ['OTHER', 'SPANISH'], 'f_visits_in_school_by_mother': ['NEVER', 'SOMETIMES', 'ONCE_PER_WEEK', 'ONCE_PER_MONTH', 'DONT_KNOW'], 'f_visits_in_school_by_father': ['NEVER', 'SOMETIMES', 'ONCE_PER_WEEK', 'ONCE_PER_MONTH', 'DONT_KNOW'], 'f_has_been_recommended_school': [False, True], 'f_parental_education_expectations': ['4_ESO', 'BACH_DEG', 'INT_FP', 'DONT_KNOW', 'UP_FP', 'BACH_ATO'], 'f_type_of_family_unit': ['MOTHER_FATHER_CHILDREN', 'OTHERS', 'MOTHER_CHILDREN', 'MOTHER_PARTNER_CHILDREN', 'RELATIVES_CHILDREN', 'FATHER_PARTNER_CHILDREN', 'FATHER_CHILDREN'], 'f_monthly_household_income': ['NO_ANSWER', 'MORE_THAN_3500', 'UP_TO_3500', 'UP_TO_1000', 'UP_TO_2500', 'UP_TO_500', 'UP_TO_3000', 'NO_INCOME', 'UP_TO_1500', 'UP_TO_2000'], 't_gender': ['FEMALE', 'MALE'], 't_has_taught_same_group_last_two_years': [False, True], 't_behaviour_problems_solution': ['INDIVIDUALLY', 'MANAGEMENT', 'CLASSMATES', 'PRINCIPAL']}\n"
     ]
    }
   ],
   "source": [
    "cat_cols = train_df.select_dtypes(include='category').columns\n",
    "vocab_dict = {}\n",
    "for col in cat_cols:\n",
    "    vocab_dict[col] = list(set(train_df[col].cat.categories)-{\"?\"})\n",
    "\n",
    "output_file_path = os.path.join(dataset_base_dir,'vocabulary.json')\n",
    "with open(output_file_path, mode=\"w\") as output_file:\n",
    "    output_file.write(json.dumps(vocab_dict))\n",
    "    output_file.close()\n",
    "print(vocab_dict)"
   ]
  },
  {
   "cell_type": "code",
   "execution_count": 32,
   "metadata": {},
   "outputs": [],
   "source": [
    "stats = {}\n",
    "stats[\"feature_names\"] = list(train_df.columns)\n",
    "stats[\"mean_std\"] = mean_std_dict\n",
    "stats[\"sensitive_column_names\"] = [\"s_gender\", \"f_has_been_recommended_school\"]\n",
    "stats[\"sensitive_column_values\"] = [\"Female\", \"False\"]\n",
    "stats[\"target_column_name\"] = \"s_has_repeated\"\n",
    "stats[\"target_column_positive_value\"] = \"True\"\n",
    "stats[\"vocabulary\"] = vocab_dict\n",
    "\n",
    "output_file_path = os.path.join(dataset_base_dir, 'dataset_stats.json')\n",
    "with open(output_file_path, mode=\"w\") as output_file:\n",
    "    output_file.write(json.dumps(stats, indent=4, sort_keys=True))\n",
    "    output_file.close()"
   ]
  },
  {
   "cell_type": "code",
   "execution_count": 33,
   "metadata": {},
   "outputs": [
    {
     "name": "stdout",
     "output_type": "stream",
     "text": [
      "Processed train data saved to ../datasets/students-dataset/train_processed.csv\n"
     ]
    }
   ],
   "source": [
    "# save train_df to csv\n",
    "output_file_path = os.path.join(dataset_base_dir, 'train_processed.csv')\n",
    "train_df.to_csv(output_file_path, index=False)\n",
    "print(\"Processed train data saved to {}\".format(output_file_path))"
   ]
  },
  {
   "cell_type": "code",
   "execution_count": null,
   "metadata": {},
   "outputs": [],
   "source": []
  }
 ],
 "metadata": {
  "kernelspec": {
   "display_name": "arl_uva",
   "language": "python",
   "name": "python3"
  },
  "language_info": {
   "codemirror_mode": {
    "name": "ipython",
    "version": 3
   },
   "file_extension": ".py",
   "mimetype": "text/x-python",
   "name": "python",
   "nbconvert_exporter": "python",
   "pygments_lexer": "ipython3",
   "version": "3.8.5"
  }
 },
 "nbformat": 4,
 "nbformat_minor": 2
}
